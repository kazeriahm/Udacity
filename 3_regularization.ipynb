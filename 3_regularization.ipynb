{
 "cells": [
  {
   "cell_type": "code",
   "execution_count": 39,
   "metadata": {
    "collapsed": true
   },
   "outputs": [],
   "source": [
    "# These are all the modules we'll be using later. Make sure you can import them\n",
    "# before proceeding further.\n",
    "from __future__ import print_function\n",
    "import numpy as np\n",
    "import tensorflow as tf\n",
    "from six.moves import cPickle as pickle"
   ]
  },
  {
   "cell_type": "markdown",
   "metadata": {},
   "source": [
    "Load data from pickle file."
   ]
  },
  {
   "cell_type": "code",
   "execution_count": 42,
   "metadata": {
    "collapsed": false
   },
   "outputs": [
    {
     "name": "stdout",
     "output_type": "stream",
     "text": [
      "Training set (200000, 28, 28) (200000,)\n",
      "Validation set (10000, 28, 28) (10000,)\n",
      "Test set (10000, 28, 28) (10000,)\n"
     ]
    }
   ],
   "source": [
    "pickle_file = 'notMNIST.pickle'\n",
    "\n",
    "with open(pickle_file, 'rb') as f:\n",
    "  save = pickle.load(f)\n",
    "  train_dataset = save['train_dataset']\n",
    "  train_labels = save['train_labels']\n",
    "  valid_dataset = save['valid_dataset']\n",
    "  valid_labels = save['valid_labels']\n",
    "  test_dataset = save['test_dataset']\n",
    "  test_labels = save['test_labels']\n",
    "  del save  # hint to help gc free up memory\n",
    "  print('Training set', train_dataset.shape, train_labels.shape)\n",
    "  print('Validation set', valid_dataset.shape, valid_labels.shape)\n",
    "  print('Test set', test_dataset.shape, test_labels.shape)"
   ]
  },
  {
   "cell_type": "markdown",
   "metadata": {},
   "source": [
    "Reformat data as flat matrix, and use hot encoding for labels."
   ]
  },
  {
   "cell_type": "code",
   "execution_count": 43,
   "metadata": {
    "collapsed": false
   },
   "outputs": [
    {
     "name": "stdout",
     "output_type": "stream",
     "text": [
      "Training set (200000, 784) (200000, 10)\n",
      "Validation set (10000, 784) (10000, 10)\n",
      "Test set (10000, 784) (10000, 10)\n"
     ]
    }
   ],
   "source": [
    "image_size = 28\n",
    "num_labels = 10\n",
    "\n",
    "def reformat(dataset, labels):\n",
    "  dataset = dataset.reshape((-1, image_size * image_size)).astype(np.float32)\n",
    "  # Map 0 to [1.0, 0.0, 0.0 ...], 1 to [0.0, 1.0, 0.0 ...]\n",
    "  labels = (np.arange(num_labels) == labels[:,None]).astype(np.float32)\n",
    "  return dataset, labels\n",
    "\n",
    "train_dataset, train_labels = reformat(train_dataset, train_labels)\n",
    "valid_dataset, valid_labels = reformat(valid_dataset, valid_labels)\n",
    "test_dataset, test_labels = reformat(test_dataset, test_labels)\n",
    "print('Training set', train_dataset.shape, train_labels.shape)\n",
    "print('Validation set', valid_dataset.shape, valid_labels.shape)\n",
    "print('Test set', test_dataset.shape, test_labels.shape)\n",
    "\n",
    "def accuracy(predictions, labels):\n",
    "    return (100.0 * np.sum(np.argmax(predictions, 1) == np.argmax(labels, 1))\n",
    "          / predictions.shape[0])"
   ]
  },
  {
   "cell_type": "markdown",
   "metadata": {},
   "source": [
    "Use tensorflow to train multinomial logistic regression L2-regularized model with stochastid gradient descent."
   ]
  },
  {
   "cell_type": "code",
   "execution_count": 75,
   "metadata": {
    "collapsed": true
   },
   "outputs": [],
   "source": [
    "#Regularization parameter\n",
    "beta_reg = 0.1\n",
    "batch_size = 128\n",
    "\n",
    "graph = tf.Graph()\n",
    "with graph.as_default():\n",
    "    # Input data. For the training data, we use a placeholder that will be fed\n",
    "    # at run time with a training minibatch.\n",
    "    tf_train_dataset = tf.placeholder(tf.float32,\n",
    "                                    shape=(batch_size, image_size * image_size))\n",
    "    tf_train_labels = tf.placeholder(tf.float32, shape=(batch_size, num_labels))\n",
    "    tf_valid_dataset = tf.constant(valid_dataset)\n",
    "    tf_test_dataset = tf.constant(test_dataset)\n",
    "  \n",
    "    # Variables.\n",
    "    weights = tf.Variable(\n",
    "        tf.truncated_normal([image_size * image_size, num_labels]))\n",
    "    biases = tf.Variable(tf.zeros([num_labels]))\n",
    "  \n",
    "    # Training computation.\n",
    "    logits = tf.matmul(tf_train_dataset, weights) + biases\n",
    "    loss = tf.reduce_mean(\n",
    "        tf.nn.softmax_cross_entropy_with_logits(labels=tf_train_labels, logits=logits))+beta_reg*tf.nn.l2_loss(weights)\n",
    "  \n",
    "    # Optimizer.\n",
    "    optimizer = tf.train.GradientDescentOptimizer(0.3).minimize(loss)\n",
    "  \n",
    "    # Predictions for the training, validation, and test data.\n",
    "    train_prediction = tf.nn.softmax(logits)\n",
    "    valid_prediction = tf.nn.softmax(\n",
    "        tf.matmul(tf_valid_dataset, weights) + biases)\n",
    "    test_prediction = tf.nn.softmax(tf.matmul(tf_test_dataset, weights) + biases)"
   ]
  },
  {
   "cell_type": "markdown",
   "metadata": {},
   "source": [
    "Train multinomial logistic regression with regularization."
   ]
  },
  {
   "cell_type": "code",
   "execution_count": 76,
   "metadata": {
    "collapsed": false
   },
   "outputs": [
    {
     "name": "stdout",
     "output_type": "stream",
     "text": [
      "Initialized\n",
      "Minibatch loss at step 0: 318.620239\n",
      "Minibatch accuracy: 9.4%\n",
      "Validation accuracy: 10.0%\n",
      "Minibatch loss at step 500: 0.914355\n",
      "Minibatch accuracy: 84.4%\n",
      "Validation accuracy: 80.2%\n",
      "Minibatch loss at step 1000: 1.055451\n",
      "Minibatch accuracy: 76.6%\n",
      "Validation accuracy: 79.2%\n",
      "Minibatch loss at step 1500: 0.850208\n",
      "Minibatch accuracy: 83.6%\n",
      "Validation accuracy: 79.2%\n",
      "Minibatch loss at step 2000: 0.951058\n",
      "Minibatch accuracy: 85.9%\n",
      "Validation accuracy: 78.9%\n",
      "Minibatch loss at step 2500: 1.053545\n",
      "Minibatch accuracy: 73.4%\n",
      "Validation accuracy: 79.7%\n",
      "Minibatch loss at step 3000: 1.067957\n",
      "Minibatch accuracy: 78.9%\n",
      "Validation accuracy: 79.4%\n",
      "Minibatch loss at step 3500: 1.049423\n",
      "Minibatch accuracy: 81.2%\n",
      "Validation accuracy: 78.6%\n",
      "Minibatch loss at step 4000: 0.973044\n",
      "Minibatch accuracy: 82.8%\n",
      "Validation accuracy: 80.2%\n",
      "Minibatch loss at step 4500: 0.988494\n",
      "Minibatch accuracy: 80.5%\n",
      "Validation accuracy: 79.1%\n",
      "Minibatch loss at step 5000: 0.932563\n",
      "Minibatch accuracy: 85.2%\n",
      "Validation accuracy: 79.0%\n",
      "Minibatch loss at step 5500: 1.086903\n",
      "Minibatch accuracy: 74.2%\n",
      "Validation accuracy: 78.1%\n",
      "Minibatch loss at step 6000: 1.131946\n",
      "Minibatch accuracy: 73.4%\n",
      "Validation accuracy: 78.6%\n",
      "Minibatch loss at step 6500: 0.906526\n",
      "Minibatch accuracy: 82.0%\n",
      "Validation accuracy: 80.2%\n",
      "Minibatch loss at step 7000: 1.071706\n",
      "Minibatch accuracy: 75.0%\n",
      "Validation accuracy: 79.5%\n",
      "Minibatch loss at step 7500: 1.172714\n",
      "Minibatch accuracy: 78.9%\n",
      "Validation accuracy: 79.2%\n",
      "Minibatch loss at step 8000: 1.212699\n",
      "Minibatch accuracy: 74.2%\n",
      "Validation accuracy: 79.1%\n",
      "Test accuracy: 86.2%\n"
     ]
    }
   ],
   "source": [
    "num_steps = 8001\n",
    "\n",
    "with tf.Session(graph=graph) as session:\n",
    "  tf.initialize_all_variables().run()\n",
    "  print(\"Initialized\")\n",
    "  for step in range(num_steps):\n",
    "    # Pick an offset within the training data, which has been randomized.\n",
    "    # Note: we could use better randomization across epochs.\n",
    "    offset = (step * batch_size) % (train_labels.shape[0] - batch_size)\n",
    "    # Generate a minibatch.\n",
    "    batch_data = train_dataset[offset:(offset + batch_size), :]\n",
    "    batch_labels = train_labels[offset:(offset + batch_size), :]\n",
    "    # Prepare a dictionary telling the session where to feed the minibatch.\n",
    "    # The key of the dictionary is the placeholder node of the graph to be fed,\n",
    "    # and the value is the numpy array to feed to it.\n",
    "    feed_dict = {tf_train_dataset : batch_data, tf_train_labels : batch_labels}\n",
    "    _, l, predictions = session.run(\n",
    "      [optimizer, loss, train_prediction], feed_dict=feed_dict)\n",
    "    if (step % 500 == 0):\n",
    "      print(\"Minibatch loss at step %d: %f\" % (step, l))\n",
    "      print(\"Minibatch accuracy: %.1f%%\" % accuracy(predictions, batch_labels))\n",
    "      print(\"Validation accuracy: %.1f%%\" % accuracy(\n",
    "        valid_prediction.eval(), valid_labels))\n",
    "  print(\"Test accuracy: %.1f%%\" % accuracy(test_prediction.eval(), test_labels))"
   ]
  },
  {
   "cell_type": "markdown",
   "metadata": {
    "collapsed": true
   },
   "source": [
    "Create 1-layer hidden layer regularized NN with ReLu."
   ]
  },
  {
   "cell_type": "code",
   "execution_count": 105,
   "metadata": {
    "collapsed": false
   },
   "outputs": [],
   "source": [
    "batch_size = 128\n",
    "hidden_layer_size = 1024\n",
    "beta_reg_nn = 0.0\n",
    "\n",
    "graph = tf.Graph()\n",
    "with graph.as_default():\n",
    "    # Input data. For the training data, we use a placeholder that will be fed\n",
    "    # at run time with a training minibatch.\n",
    "    tf_train_dataset = tf.placeholder(tf.float32,\n",
    "                                    shape=(batch_size, image_size * image_size))\n",
    "    tf_train_labels = tf.placeholder(tf.float32, shape=(batch_size, num_labels))\n",
    "    tf_valid_dataset = tf.constant(valid_dataset)\n",
    "    tf_test_dataset = tf.constant(test_dataset)\n",
    "  \n",
    "    # Variables.\n",
    "    weights_hidden = tf.Variable(\n",
    "        tf.truncated_normal([image_size * image_size, hidden_layer_size]))\n",
    "    biases_hidden = tf.Variable(tf.zeros([hidden_layer_size]))\n",
    "    \n",
    "    hidden = tf.nn.relu(tf.matmul(tf_train_dataset, weights_hidden) + biases_hidden)\n",
    "    \n",
    "    weights_output = tf.Variable(tf.truncated_normal([hidden_layer_size, num_labels]))\n",
    "    biases_output = tf.Variable(tf.zeros([num_labels]))\n",
    "    \n",
    "    logits = tf.matmul(hidden, weights_output)+biases_output\n",
    "\n",
    "    loss = tf.reduce_mean(\n",
    "    tf.nn.softmax_cross_entropy_with_logits(labels=tf_train_labels, logits=logits))+beta_reg_nn*(tf.nn.l2_loss(weights_hidden)+tf.nn.l2_loss(weights_output))\n",
    "    \n",
    "    # Optimizer.\n",
    "    optimizer = tf.train.GradientDescentOptimizer(0.3).minimize(loss)\n",
    "  \n",
    "    # Predictions for the training, validation, and test data.\n",
    "    train_prediction = tf.nn.softmax(logits)\n",
    "    \n",
    "    hidden_validation = tf.nn.relu(tf.matmul(tf_valid_dataset, weights_hidden) + biases_hidden)\n",
    "    valid_prediction = tf.nn.softmax(\n",
    "    tf.matmul(hidden_validation, weights_output) + biases_output)\n",
    "    \n",
    "    hidden_prediction = tf.nn.relu(tf.matmul(tf_test_dataset, weights_hidden) + biases_hidden)\n",
    "    test_prediction = tf.nn.softmax(tf.matmul(hidden_prediction, weights_output) + biases_output)"
   ]
  },
  {
   "cell_type": "code",
   "execution_count": 106,
   "metadata": {
    "collapsed": false
   },
   "outputs": [
    {
     "name": "stdout",
     "output_type": "stream",
     "text": [
      "Initialized\n",
      "Minibatch loss at step 0: 365.464294\n",
      "Minibatch accuracy: 8.6%\n",
      "Validation accuracy: 28.8%\n",
      "Minibatch loss at step 1000: 13.224687\n",
      "Minibatch accuracy: 78.9%\n",
      "Validation accuracy: 82.9%\n",
      "Minibatch loss at step 2000: 4.379684\n",
      "Minibatch accuracy: 85.2%\n",
      "Validation accuracy: 82.6%\n",
      "Minibatch loss at step 3000: 3.454924\n",
      "Minibatch accuracy: 83.6%\n",
      "Validation accuracy: 82.4%\n",
      "Minibatch loss at step 4000: 6.137101\n",
      "Minibatch accuracy: 85.2%\n",
      "Validation accuracy: 82.9%\n",
      "Minibatch loss at step 5000: 4.941701\n",
      "Minibatch accuracy: 86.7%\n",
      "Validation accuracy: 80.5%\n",
      "Minibatch loss at step 6000: 2.463027\n",
      "Minibatch accuracy: 80.5%\n",
      "Validation accuracy: 83.6%\n",
      "Minibatch loss at step 7000: 5.042780\n",
      "Minibatch accuracy: 83.6%\n",
      "Validation accuracy: 84.2%\n",
      "Minibatch loss at step 8000: 4.478261\n",
      "Minibatch accuracy: 80.5%\n",
      "Validation accuracy: 82.9%\n",
      "Minibatch loss at step 9000: 5.584070\n",
      "Minibatch accuracy: 82.8%\n",
      "Validation accuracy: 82.2%\n",
      "Minibatch loss at step 10000: 2.606863\n",
      "Minibatch accuracy: 84.4%\n",
      "Validation accuracy: 83.7%\n",
      "Test accuracy: 90.7%\n"
     ]
    }
   ],
   "source": [
    "num_steps = 10001\n",
    "\n",
    "with tf.Session(graph=graph) as session:\n",
    "  tf.initialize_all_variables().run()\n",
    "  print(\"Initialized\")\n",
    "  for step in range(num_steps):\n",
    "    # Pick an offset within the training data, which has been randomized.\n",
    "    # Note: we could use better randomization across epochs.\n",
    "    #Uncomment the following two lines for extrelemy overfitting the data\n",
    "    #step_overfit=1\n",
    "    #offset = (step_overfit * batch_size) % (train_labels.shape[0] - batch_size)\n",
    "    offset = (step * batch_size) % (train_labels.shape[0] - batch_size)\n",
    "    # Generate a minibatch.\n",
    "    batch_data = train_dataset[offset:(offset + batch_size), :]\n",
    "    batch_labels = train_labels[offset:(offset + batch_size), :]\n",
    "    # Prepare a dictionary telling the session where to feed the minibatch.\n",
    "    # The key of the dictionary is the placeholder node of the graph to be fed,\n",
    "    # and the value is the numpy array to feed to it.\n",
    "    feed_dict = {tf_train_dataset : batch_data, tf_train_labels : batch_labels}\n",
    "    _, l, predictions = session.run(\n",
    "      [optimizer, loss, train_prediction], feed_dict=feed_dict)\n",
    "    if (step % 1000 == 0):\n",
    "      print(\"Minibatch loss at step %d: %f\" % (step, l))\n",
    "      print(\"Minibatch accuracy: %.1f%%\" % accuracy(predictions, batch_labels))\n",
    "      print(\"Validation accuracy: %.1f%%\" % accuracy(\n",
    "        valid_prediction.eval(), valid_labels))\n",
    "  print(\"Test accuracy: %.1f%%\" % accuracy(test_prediction.eval(), test_labels))\n",
    "\n"
   ]
  },
  {
   "cell_type": "markdown",
   "metadata": {},
   "source": [
    "Create 1-layer hidden layer NN with ReLu and dropout."
   ]
  },
  {
   "cell_type": "code",
   "execution_count": 128,
   "metadata": {
    "collapsed": true
   },
   "outputs": [],
   "source": [
    "batch_size = 128\n",
    "hidden_layer_size = 1024\n",
    "\n",
    "graph = tf.Graph()\n",
    "with graph.as_default():\n",
    "    # Input data. For the training data, we use a placeholder that will be fed\n",
    "    # at run time with a training minibatch.\n",
    "    tf_train_dataset = tf.placeholder(tf.float32,\n",
    "                                    shape=(batch_size, image_size * image_size))\n",
    "    tf_train_labels = tf.placeholder(tf.float32, shape=(batch_size, num_labels))\n",
    "    tf_valid_dataset = tf.constant(valid_dataset)\n",
    "    tf_test_dataset = tf.constant(test_dataset)\n",
    "  \n",
    "    # Variables.\n",
    "    weights_hidden = tf.Variable(\n",
    "        tf.truncated_normal([image_size * image_size, hidden_layer_size]))\n",
    "    biases_hidden = tf.Variable(tf.zeros([hidden_layer_size]))\n",
    "    \n",
    "    keep_prob = tf.placeholder(tf.float32)\n",
    "    weights_hidden_dropped = tf.nn.dropout(weights_hidden, keep_prob)\n",
    "    \n",
    "    hidden = tf.nn.relu(tf.matmul(tf_train_dataset, weights_hidden_dropped) + biases_hidden)\n",
    "    #hidden = tf.nn.relu(tf.matmul(tf_train_dataset, weights_hidden) + biases_hidden)\n",
    "    \n",
    "    #Create a placeholder for dropout probability\n",
    "    weights_output = tf.Variable(tf.truncated_normal([hidden_layer_size, num_labels]))\n",
    "    biases_output = tf.Variable(tf.zeros([num_labels]))\n",
    "    \n",
    "    weights_output_dropout = tf.nn.dropout(weights_output, keep_prob)\n",
    "    \n",
    "    logits = tf.matmul(hidden, weights_output_dropout)+biases_output\n",
    "    #logits = tf.matmul(hidden, weights_output)+biases_output\n",
    "\n",
    "    loss = tf.reduce_mean(\n",
    "    tf.nn.softmax_cross_entropy_with_logits(labels=tf_train_labels, logits=logits))\n",
    "    \n",
    "    # Optimizer.\n",
    "    optimizer = tf.train.GradientDescentOptimizer(0.3).minimize(loss)\n",
    "  \n",
    "    # Predictions for the training, validation, and test data.\n",
    "    train_prediction = tf.nn.softmax(logits)\n",
    "    \n",
    "    hidden_validation = tf.nn.relu(tf.matmul(tf_valid_dataset, weights_hidden) + biases_hidden)\n",
    "    valid_prediction = tf.nn.softmax(\n",
    "    tf.matmul(hidden_validation, weights_output) + biases_output)\n",
    "    \n",
    "    hidden_prediction = tf.nn.relu(tf.matmul(tf_test_dataset, weights_hidden) + biases_hidden)\n",
    "    test_prediction = tf.nn.softmax(tf.matmul(hidden_prediction, weights_output) + biases_output)"
   ]
  },
  {
   "cell_type": "code",
   "execution_count": 129,
   "metadata": {
    "collapsed": false
   },
   "outputs": [
    {
     "name": "stdout",
     "output_type": "stream",
     "text": [
      "Initialized\n",
      "Minibatch loss at step 0: 579.659302\n",
      "Minibatch accuracy: 10.2%\n",
      "Validation accuracy: 22.2%\n",
      "Minibatch loss at step 1000: 1.596209\n",
      "Minibatch accuracy: 99.2%\n",
      "Validation accuracy: 69.9%\n",
      "Minibatch loss at step 2000: 0.000000\n",
      "Minibatch accuracy: 100.0%\n",
      "Validation accuracy: 70.7%\n",
      "Minibatch loss at step 3000: 0.000000\n",
      "Minibatch accuracy: 100.0%\n",
      "Validation accuracy: 70.2%\n",
      "Minibatch loss at step 4000: 0.000000\n",
      "Minibatch accuracy: 100.0%\n",
      "Validation accuracy: 70.6%\n",
      "Minibatch loss at step 5000: 0.000000\n",
      "Minibatch accuracy: 100.0%\n",
      "Validation accuracy: 70.0%\n",
      "Minibatch loss at step 6000: 0.000000\n",
      "Minibatch accuracy: 100.0%\n",
      "Validation accuracy: 69.9%\n",
      "Minibatch loss at step 7000: 0.000000\n",
      "Minibatch accuracy: 100.0%\n",
      "Validation accuracy: 70.3%\n",
      "Minibatch loss at step 8000: 0.000000\n",
      "Minibatch accuracy: 100.0%\n",
      "Validation accuracy: 70.1%\n",
      "Minibatch loss at step 9000: 0.000000\n",
      "Minibatch accuracy: 100.0%\n",
      "Validation accuracy: 69.9%\n",
      "Minibatch loss at step 10000: 0.000000\n",
      "Minibatch accuracy: 100.0%\n",
      "Validation accuracy: 70.5%\n",
      "Test accuracy: 77.6%\n"
     ]
    }
   ],
   "source": [
    "num_steps = 10001\n",
    "dropout_parameter = 0.5\n",
    "\n",
    "with tf.Session(graph=graph) as session:\n",
    "  tf.initialize_all_variables().run()\n",
    "  print(\"Initialized\")\n",
    "  for step in range(num_steps):\n",
    "    # Pick an offset within the training data, which has been randomized.\n",
    "    # Note: we could use better randomization across epochs.\n",
    "    #Uncomment the following two lines for extrelemy overfitting the data\n",
    "    step_overfit=1\n",
    "    offset = (step_overfit * batch_size) % (train_labels.shape[0] - batch_size)\n",
    "    #offset = (step * batch_size) % (train_labels.shape[0] - batch_size)\n",
    "    # Generate a minibatch.\n",
    "    batch_data = train_dataset[offset:(offset + batch_size), :]\n",
    "    batch_labels = train_labels[offset:(offset + batch_size), :]\n",
    "    # Prepare a dictionary telling the session where to feed the minibatch.\n",
    "    # The key of the dictionary is the placeholder node of the graph to be fed,\n",
    "    # and the value is the numpy array to feed to it.\n",
    "    feed_dict = {tf_train_dataset : batch_data, tf_train_labels : batch_labels, keep_prob: dropout_parameter}\n",
    "    _, l, predictions = session.run(\n",
    "      [optimizer, loss, train_prediction], feed_dict=feed_dict)\n",
    "    if (step % 1000 == 0):\n",
    "      print(\"Minibatch loss at step %d: %f\" % (step, l))\n",
    "      print(\"Minibatch accuracy: %.1f%%\" % accuracy(predictions, batch_labels))\n",
    "      print(\"Validation accuracy: %.1f%%\" % accuracy(\n",
    "        valid_prediction.eval(), valid_labels))\n",
    "  print(\"Test accuracy: %.1f%%\" % accuracy(test_prediction.eval(), test_labels))\n",
    "\n"
   ]
  },
  {
   "cell_type": "code",
   "execution_count": null,
   "metadata": {
    "collapsed": true
   },
   "outputs": [],
   "source": []
  },
  {
   "cell_type": "code",
   "execution_count": null,
   "metadata": {
    "collapsed": true
   },
   "outputs": [],
   "source": []
  }
 ],
 "metadata": {
  "kernelspec": {
   "display_name": "Python 3",
   "language": "python",
   "name": "python3"
  },
  "language_info": {
   "codemirror_mode": {
    "name": "ipython",
    "version": 3
   },
   "file_extension": ".py",
   "mimetype": "text/x-python",
   "name": "python",
   "nbconvert_exporter": "python",
   "pygments_lexer": "ipython3",
   "version": "3.5.2"
  }
 },
 "nbformat": 4,
 "nbformat_minor": 2
}
